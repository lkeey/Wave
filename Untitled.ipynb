{
 "cells": [
  {
   "cell_type": "code",
   "execution_count": null,
   "id": "8db419d6",
   "metadata": {},
   "outputs": [],
   "source": [
    "Градиент-поля вокруг картинки пользоваателя -\n",
    "\n",
    "Добавить статус онлайн или оффлайн -\n",
    "\n",
    "Добавить реакции на сообщения -\n",
    "\n",
    "Добавить возможность реплая -\n",
    "\n",
    "Редактирование поста, коммента -\n",
    "\n",
    "Полный список пользователей - \n",
    "\n",
    "Поиск по постам, диалогам - \n",
    "\n",
    "Создание групп -\n",
    "\n",
    "Создание кьюар кода пользователя\n"
   ]
  }
 ],
 "metadata": {
  "kernelspec": {
   "display_name": "Django Shell-Plus",
   "language": "python",
   "name": "django_extensions"
  },
  "language_info": {
   "codemirror_mode": {
    "name": "ipython",
    "version": 3
   },
   "file_extension": ".py",
   "mimetype": "text/x-python",
   "name": "python",
   "nbconvert_exporter": "python",
   "pygments_lexer": "ipython3",
   "version": "3.10.5"
  }
 },
 "nbformat": 4,
 "nbformat_minor": 5
}
