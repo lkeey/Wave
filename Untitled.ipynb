{
 "cells": [
  {
   "cell_type": "code",
   "execution_count": null,
   "id": "8db419d6",
   "metadata": {},
   "outputs": [],
   "source": [
    "\"\"\"Градиент-поля вокруг картинки пользоваателя +\n",
    "\n",
    "Показывать количество непрочитанных сообщений у чатов и у иконки сообщения\n",
    "\n",
    "Добавить статус онлайн или оффлайн -\n",
    "\n",
    "Добавить реакции на сообщения -\n",
    "\n",
    "Добавить возможность реплая -\n",
    "\n",
    "Редактирование поста, коммента -\n",
    "\n",
    "Полный список пользователей - \n",
    "\n",
    "Поиск по постам, диалогам - \n",
    "\n",
    "Создание групп -\n",
    "\n",
    "Создание кьюар кода пользователя\n",
    "\n",
    "Количество непрочитанных сообщений\n",
    "\"\"\""
   ]
  }
 ],
 "metadata": {
  "kernelspec": {
   "display_name": "Python 3.10.6 ('venv': venv)",
   "language": "python",
   "name": "python3"
  },
  "language_info": {
   "codemirror_mode": {
    "name": "ipython",
    "version": 3
   },
   "file_extension": ".py",
   "mimetype": "text/x-python",
   "name": "python",
   "nbconvert_exporter": "python",
   "pygments_lexer": "ipython3",
   "version": "3.10.6"
  },
  "vscode": {
   "interpreter": {
    "hash": "565256ce1517ba0b8d35a3714d4ead880d785377035de976c3542aaa133ddaac"
   }
  }
 },
 "nbformat": 4,
 "nbformat_minor": 5
}
